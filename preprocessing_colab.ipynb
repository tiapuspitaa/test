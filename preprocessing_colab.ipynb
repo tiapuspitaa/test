{
 "cells": [
  {
   "cell_type": "code",
   "execution_count": 5,
   "metadata": {},
   "outputs": [
    {
     "name": "stdout",
     "output_type": "stream",
     "text": [
      "Nama kolom yang ada: Index(['title', 'genres', 'runtime', 'vote_average', 'vote_count',\n",
      "       'release_year', 'Action', 'Adventure', 'Animation', 'Comedy', 'Crime',\n",
      "       'Documentary', 'Drama', 'Family', 'Fantasy', 'Foreign', 'History',\n",
      "       'Horror', 'Music', 'Mystery', 'Romance', 'Science Fiction', 'TV Movie',\n",
      "       'Thriller', 'War', 'Western'],\n",
      "      dtype='object')\n",
      "File yang telah diproses disimpan sebagai: processed_movies.csv\n"
     ]
    }
   ],
   "source": [
    "import pandas as pd\n",
    "\n",
    "file_path = 'movies.csv'\n",
    "movies_df = pd.read_csv(file_path)\n",
    "\n",
    "# Menghapus spasi pada nama kolom jika ada\n",
    "movies_df.columns = movies_df.columns.str.strip()\n",
    "\n",
    "# Menampilkan nama kolom untuk memastikan kolom yang ada\n",
    "print(\"Nama kolom yang ada:\", movies_df.columns)\n",
    "\n",
    "# Memproses kolom jika ada dalam DataFrame\n",
    "for col in ['title', 'genres', 'runtime']:\n",
    "    if col in movies_df.columns:\n",
    "        # Mengonversi kolom ke string dan mengubahnya menjadi huruf kecil\n",
    "        movies_df[col] = movies_df[col].astype(str).str.lower()\n",
    "    else:\n",
    "        print(f\"Kolom {col} tidak ditemukan.\")\n",
    "\n",
    "# Menyimpan DataFrame yang telah diproses ke file baru\n",
    "processed_file_path = 'processed_movies.csv'\n",
    "movies_df.to_csv(processed_file_path, index=False)\n",
    "\n",
    "print(f\"File yang telah diproses disimpan sebagai: {processed_file_path}\")"
   ]
  }
 ],
 "metadata": {
  "kernelspec": {
   "display_name": "Python 3",
   "language": "python",
   "name": "python3"
  },
  "language_info": {
   "codemirror_mode": {
    "name": "ipython",
    "version": 3
   },
   "file_extension": ".py",
   "mimetype": "text/x-python",
   "name": "python",
   "nbconvert_exporter": "python",
   "pygments_lexer": "ipython3",
   "version": "3.9.13"
  }
 },
 "nbformat": 4,
 "nbformat_minor": 2
}
